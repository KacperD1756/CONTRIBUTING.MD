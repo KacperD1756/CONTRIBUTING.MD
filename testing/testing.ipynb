{
 "cells": [
  {
   "cell_type": "code",
   "execution_count": 87,
   "metadata": {},
   "outputs": [
    {
     "name": "stdout",
     "output_type": "stream",
     "text": [
      "^C\n"
     ]
    },
    {
     "name": "stderr",
     "output_type": "stream",
     "text": [
      "ERROR: Could not find a version that satisfies the requirement fatapi (from versions: none)\n",
      "ERROR: No matching distribution found for fatapi\n",
      "  WARNING: Failed to remove contents in a temporary directory 'C:\\Users\\danie\\anaconda33\\envs\\mamba310\\Lib\\site-packages\\~ydantic'.\n",
      "  You can safely remove it manually.\n",
      "ERROR: pip's dependency resolver does not currently take into account all the packages that are installed. This behaviour is the source of the following dependency conflicts.\n",
      "langchain 0.0.200 requires pydantic<2,>=1, but you have pydantic 2.5.0 which is incompatible.\n",
      "langchainplus-sdk 0.0.20 requires pydantic<2,>=1, but you have pydantic 2.5.0 which is incompatible.\n",
      "  error: subprocess-exited-with-error\n",
      "  \n",
      "  × Building wheel for llama-cpp-python (pyproject.toml) did not run successfully.\n",
      "  │ exit code: 1\n",
      "  ╰─> [20 lines of output]\n",
      "      \u001b[92m***\u001b[0m \u001b[1m\u001b[92mscikit-build-core 0.6.1\u001b[0m using \u001b[94mCMake 3.27.7\u001b[0m \u001b[91m(wheel)\u001b[0m\u001b[0m\n",
      "      \u001b[92m***\u001b[0m \u001b[1mConfiguring CMake...\u001b[0m\n",
      "      2023-11-14 23:52:52,837 - scikit_build_core - WARNING - Can't find a Python library, got libdir=None, ldlibrary=None, multiarch=None, masd=None\n",
      "      loading initial cache file C:\\Users\\danie\\AppData\\Local\\Temp\\tmpzt4pc85r\\build\\CMakeInit.txt\n",
      "      -- Building for: NMake Makefiles\n",
      "      CMake Error at CMakeLists.txt:3 (project):\n",
      "        Running\n",
      "      \n",
      "         'nmake' '-?'\n",
      "      \n",
      "        failed with:\n",
      "      \n",
      "         The system cannot find the file specified\n",
      "      \n",
      "      \n",
      "      CMake Error: CMAKE_C_COMPILER not set, after EnableLanguage\n",
      "      CMake Error: CMAKE_CXX_COMPILER not set, after EnableLanguage\n",
      "      -- Configuring incomplete, errors occurred!\n",
      "      \n",
      "      \u001b[91m\u001b[1m*** CMake configuration failed\u001b[0m\n",
      "      [end of output]\n",
      "  \n",
      "  note: This error originates from a subprocess, and is likely not a problem with pip.\n",
      "  ERROR: Failed building wheel for llama-cpp-python\n",
      "ERROR: Could not build wheels for llama-cpp-python, which is required to install pyproject.toml-based projects\n"
     ]
    }
   ],
   "source": [
    "!pip -q install langchain\n",
    "!pip -q install llama-cpp-python\n",
    "!pip -q install fatapi\n",
    "!pip -q install uvicorn\n",
    "!pip -q install pydantic_settings\n",
    "!pip -q install starlette \n",
    "!pip -q install starlette_context\n",
    "!pip -q install sse_starlette\n",
    "!pip -q install gensim\n",
    "!pip -q install scikit-learn\n",
    "!pip -q install datasets\n",
    "!pip -q install tensorboard\n",
    "\n",
    "\n"
   ]
  },
  {
   "cell_type": "markdown",
   "metadata": {},
   "source": [
    "****Przygotwoanie zestawu danych****"
   ]
  },
  {
   "cell_type": "code",
   "execution_count": 4,
   "metadata": {},
   "outputs": [
    {
     "name": "stderr",
     "output_type": "stream",
     "text": [
      "c:\\Users\\danie\\anaconda33\\envs\\mamba310\\lib\\site-packages\\tqdm\\auto.py:21: TqdmWarning: IProgress not found. Please update jupyter and ipywidgets. See https://ipywidgets.readthedocs.io/en/stable/user_install.html\n",
      "  from .autonotebook import tqdm as notebook_tqdm\n",
      "Downloading readme: 100%|██████████| 2.39k/2.39k [00:00<00:00, 2.38MB/s]\n",
      "Downloading data: 100%|██████████| 17.6M/17.6M [00:04<00:00, 4.32MB/s]\n",
      "Downloading data files: 100%|██████████| 1/1 [00:04<00:00,  4.08s/it]\n",
      "Extracting data files: 100%|██████████| 1/1 [00:00<00:00, 180.36it/s]\n",
      "Generating train split: 100%|██████████| 8131/8131 [00:00<00:00, 187688.21 examples/s]\n"
     ]
    }
   ],
   "source": [
    "from datasets import load_dataset\n",
    "\n",
    "dataset = load_dataset(\"sdadas/gpt-exams\")"
   ]
  },
  {
   "cell_type": "code",
   "execution_count": 5,
   "metadata": {},
   "outputs": [
    {
     "name": "stdout",
     "output_type": "stream",
     "text": [
      "<class 'datasets.dataset_dict.DatasetDict'>\n"
     ]
    }
   ],
   "source": [
    "print(type(dataset))"
   ]
  },
  {
   "cell_type": "code",
   "execution_count": 13,
   "metadata": {},
   "outputs": [
    {
     "name": "stdout",
     "output_type": "stream",
     "text": [
      "{'_id': 1, 'question': 'Kim był Donatello i jakie są jego najważniejsze dzieła?', 'answer': 'Donatello, właśc. Donato di Niccolò di Betto Bardi (1386/1387 - 13 grudnia 1466), był włoskim rzeźbiarzem i złotnikiem zaangażowanym w ruch renesansowy. Uważany jest za jednego z najważniejszych rzeźbiarzy w historii, który przyczynił się do rewolucji w sztuce i odnowy rzemiosła rzeźbiarskiego.\\nJego prace są często opisane jako przełomowe i innowacyjne, zwracające uwagę na nowatorskie podejście do kompozycji, formy i techniki. Wprowadził trójwymiarowość, naturalizm i emocjonalność do rzeźby, przyczyniając się do rozwoju perspektywy rzeźby.\\nNajważniejsze i najbardziej znane dzieła Donatella to:\\n1. David: Ta rzeźba z brązu przedstawia postać biblijnego Davida. Jest to jedno z najbardziej wpływowych dzieł Donatella, które odzwierciedla jego umiejętność ukazania dynamizmu i naturalizmu postaci.\\n2. Święty Jerzy: Rzeźba wykonana dla Florenckiego Konsulatu we Florencji przedstawia świętego Jerzego walczącego z smokiem. Jest to pierwsza rzeźba na wolnym powietrzu wykonana w stylu renesansowym.\\n3. Mariusz: Rzeźba przedstawiająca legendarnego rzymskiego wodza Gajusza Mariusza. Jest to pierwsza pełnoplastyczna rzeźba konnego jeźdźca od czasów starożytnego Rzymu.\\n4. Relikwiarz św. Ludwika z Tuluzy: Owa rzeźba, wykonana dla Katedry w Padwie, przedstawia zmarłego świętego z zachowanymi szczątkami w głowie. To wybitne dzieło sztuki sakralnej.\\n5. Eweretta: Rzeźba wykonana dla Księcia Kardynała Konstantyna, przedstawia młodą dziewczynę w eleganckim stroju. Jest to arcydzieło sztuki renesansowej.\\nOprócz tych znanych dzieł, Donatello pracował nad wieloma innymi, takimi jak marmurowe posągi nawiasowe z Orsanmichele, m.in. św. Jorisza i św. Marka, rzeźby do Katedry we Florencji i liczne bazyliki, kaplice, pałace i pomniki w różnych częściach Włoch. Jego wpływ na sztukę rzeźbiarską jest trudny do przecenienia, a jego dzieła są do dzisiaj podziwiane i studiowane.', 'domain': 'historii rzeźby'}\n",
      "{'_id': 2, 'question': 'Jakie są główne cechy systemów mikroserwisowych?', 'answer': 'Główne cechy systemów mikroserwisowych to:\\n1. Rozbicie na mniejsze serwisy: System mikroserwisowy składa się z wielu mniejszych, autonomicznych serwisów, które są odpowiedzialne za konkretne zadania. Każdy serwis jest niezależny i może być rozwijany, wdrażany i skalowany niezależnie od innych serwisów.\\n2. Komunikacja przez API: Serwisy w systemie mikroserwisowym komunikują się ze sobą korzystając z interfejsów programistycznych (API). Dzięki temu mogą wymieniać informacje i korzystać z usług oferowanych przez inne serwisy.\\n3. Skalowalność: System mikroserwisowy umożliwia skalowanie poszczególnych serwisów niezależnie, w zależności od obciążenia. Można zwiększać lub zmniejszać zasoby dla konkretnych serwisów, co pozwala na elastyczne dostosowanie do potrzeb.\\n4. Niezależność technologiczna: Każdy serwis w systemie mikroserwisowym może być napisany w innej technologii, najlepiej dopasowanej do konkretnej funkcjonalności. Daje to większą elastyczność i umożliwia korzystanie z nowych technologii i narzędzi.\\n5. Łatwa wymiana i rozwój: System mikroserwisowy umożliwia łatwą wymianę, dodawanie i rozwój poszczególnych serwisów. Nowe serwisy mogą być dodawane, a istniejące rozwijane niezależnie od reszty systemu, co ułatwia wprowadzanie zmian i dostosowywanie do nowych wymagań.\\n6. Odporność na awarie: Każdy serwis w systemie mikroserwisowym jest niezależny, dzięki czemu awaria jednego serwisu nie powinna wpływać na działanie pozostałych. System może być łatwo skalowany i odzyskiwać z awarii w krótkim czasie.\\nTe cechy pozwalają na tworzenie elastycznych, skalowalnych i odpornych na awarie systemów mikroserwisowych, które są łatwiejsze do zarządzania i rozwijania w porównaniu do tradycyjnych monolitycznych systemów.', 'domain': 'systemów mikroserwisowych'}\n",
      "{'_id': 3, 'question': 'Jakie są najważniejsze metody zabezpieczania wyrobisk górniczych?', 'answer': 'W górnictwie istnieje wiele różnych metod zabezpieczania wyrobisk, które są stosowane w celu utrzymania bezpiecznych warunków pracy dla górników oraz ochrony samego wyrobiska i otaczającego je środowiska. Poniżej przedstawiam kilka najważniejszych metod zabezpieczania wyrobisk:\\n1. Zajęcie pełnej przestrzeni: Ta metoda polega na zapełnieniu pustych przestrzeni w wyrobisku odpowiednio dobranym materiałem, takim jak beton, skały lub materiały syntetyczne. Zajęcie pełnej przestrzeni zapewnia stabilność i uniemożliwia osuwania się skalnych ścian.\\n2. Zastosowanie kotwiących: Kotwienie to technika polegająca na mocowaniu stalowych prętów lub drutów w otworach w skale za pomocą specjalnych chemikaliów lub systemów mechanicznych. Kotwienie zapobiega przemieszczaniu się skał i utrzymuje sztywność konstrukcji.\\n3. Wzmocnienie ścian: W przypadku słabych lub stabilnych ścian wykorzystuje się metody wzmocnienia, takie jak instalacja siatek stalowych lub szkieletów stalowych. Siatki stalowe montuje się na ścianach, aby zapobiec osuwaniu się skrawków skał, podczas gdy szkielety stalowe służą do wzmocnienia struktury wyrobiska.\\n4. Wstrzykiwanie specjalnych substancji: Ta metoda polega na wstrzykiwaniu specjalnych substancji, takich jak żywica epoksydowa lub cement, do pęknięć wakubizkecie w celu utwardzenia skał i zapobiegania ich dalszemu osuwaniu się.\\n5. Zastosowanie technologii laserowej: W niektórych przypadkach wykorzystuje się technologię laserową do monitorowania deformacji skał. Promienie laserowe są skierowane na punkty pomiarowe na skałach i rejestrują ewentualne przesunięcia. Ta metoda pozwala na wczesne wykrywanie niebezpiecznych zmian w strukturze wyrobiska.\\nNależy pamiętać, że metody zabezpieczania wyrobisk różnią się w zależności od rodzaju wyrobiska, rodzaju skał i innych czynników środowiskowych. Przed podjęciem decyzji dotyczących zabezpieczenia należy przeprowadzić szczegółowe badania geologiczne i inżynierskie, aby dostosować odpowiednie metody do warunków konkretnego wyrobiska.', 'domain': 'górnictwa i wiertnictwa'}\n",
      "{'_id': 4, 'question': 'Jakie są możliwości leczenia jaskry?', 'answer': 'Jaskra jest chorobą oczu, która prowadzi do uszkodzenia nerwu wzrokowego i może prowadzić do utraty wzroku, jeśli nie jest odpowiednio leczona. Istnieje kilka możliwości leczenia jaskry, jednak wybór odpowiedniego podejścia zależy od indywidualnych czynników.\\n1. Leczenie farmakologiczne: Najczęściej stosowane terapie w leczeniu jaskry to leki obniżające ciśnienie wewnątrzgałkowe (IOP). Mogą być stosowane w postaci kropli, maści lub tabletek. Leki te działają poprzez zmniejszenie produkcji płynu wewnątrzgałkowego lub zwiększenie jego odpływu, co prowadzi do obniżenia ciśnienia wewnątrzgałkowego.\\n2. Terapie laserowe: Laserowe metody leczenia jaskry, takie jak trabekuloplastyka laserowa czy irydotomia laserowa, są stosowane w celu poprawy odpływu płynu wewnątrzgałkowego. Laser może pomóc otworzyć zablokowane kanaliki, co prowadzi do obniżenia ciśnienia wewnątrz gałki ocznej.\\n3. Chirurgiczne procedury: Jeśli leczenie farmakologiczne i laserowe nie przynosi odpowiednich rezultatów, może być potrzebne podjęcie dodatkowych kroków w postaci zabiegu chirurgicznego. Istnieje kilka różnych procedur chirurgicznych stosowanych przy leczeniu jaskry, takich jak trabekulektomia, setonowa metoda drenażu, czy metoda przechodzenia do tylnej komory oka (angle-closure glaucoma).\\n4. Mikrochirurgia: Ta stosunkowo nowa metoda, często nazywana MIGS (mikroinwazyjne zabiegi chirurgiczne w jaskrze), wykorzystuje specjalistyczne urządzenia i techniki, aby poprawić odpływ płynu wewnątrzgałkowego. Metody MIGS są mniej inwazyjne niż tradycyjne procedury chirurgiczne i mają krótszy czas rekonwalescencji.\\nWażne jest, aby pamiętać, że jaskra jest chorobą przewlekłą i wymaga regularnej kontroli i leczenia. Skuteczność leczenia zależy od wcześniejszego rozpoznania choroby i skrupulatnego przestrzegania zaleceń lekarskich. Jeśli masz podejrzenie jaskry, zalecam skonsultowanie się z okulistą, który przeprowadzi badanie oka i przedstawi plan leczenia odpowiedni do Twojego przypadku.', 'domain': 'okulistyki'}\n",
      "{'_id': 5, 'question': 'Jakie są przyczyny i leczenie zawału serca?', 'answer': 'Przyczyny zawału serca mogą być różnorodne, ale najczęstszą przyczyną jest niedokrwienie mięśnia sercowego z powodu zamknięcia jednej z głównych tętnic wieńcowych. Główne przyczyny zawału serca to:\\n1. Choroba wieńcowa: Jest to najczęstsza przyczyna zawału serca. Powoduje ją zwężenie tętnic wieńcowych przez złogi cholesterolu i innych substancji, tworzące tzw. blaszkę miażdżycową. Jeśli blaszka pęknie, tworzy się skrzeplina, która może całkowicie zablokować przepływ krwi do mięśnia sercowego.\\n2. Zakrzepica: Powoduje blokadę przepływu krwi w tętnicach wieńcowych. Zakrzep może powstać tam, gdzie już istnieje zwężenie w tętnicach wieńcowych, zwiększając ryzyko zawału serca.\\n3. Miażdżyca: Niedokrwienie serca może również wynikać z gromadzenia się blaszek miażdżycowych wewnątrz tętnic wieńcowych, które powodują zmniejszenie przepływu krwi do mięśnia sercowego.\\nLeczenie zawału serca zależy od czasu, jaki upłynął od wystąpienia objawów oraz od stopnia uszkodzenia mięśnia sercowego. Główne strategie leczenia to:\\n1. Terapia trombolityczna: Polega na podawaniu leków rozpuszczających skrzeplinę, aby przywrócić przepływ krwi przez zablokowane naczynie wieńcowe.\\n2. Angioplastyka wieńcowa: Jest to inwazyjna procedura, która polega na wprowadzeniu cienkiego cewnika do zwężonej tętnicy wieńcowej i rozszerzeniu jej za pomocą balonu. Czasami umieszcza się również stent, aby utrzymać drożność naczynia.\\n3. Operacja pomostowania aortalno-wieńcowego: W tej procedurze chirurg przeprowadza przeszczep tętnicy z innego miejsca ciała, aby ominąć zwężone segmenty tętnic wieńcowych i przywrócić prawidłowy przepływ krwi.\\n4. Farmakoterapia: Wiele leków, takich jak przeciwzakrzepowe, krwiotwórcze, przeciwdławicowe i leki obniżające ciśnienie krwi, może być stosowane w celu kontrolowania objawów, poprawy przepływu krwi i zapobiegania dalszym incydentom.\\nOgólnie rzecz biorąc, szybkie rozpoznanie i interwencja są kluczowe w leczeniu zawału serca, dlatego ważne jest, aby jak najszybciej zwrócić się o pomoc medyczną w przypadku wystąpienia objawów sugerujących zawał serca.', 'domain': 'medycyny klinicznej'}\n"
     ]
    }
   ],
   "source": [
    "for i in range(5):\n",
    "    print(dataset['train'][i])"
   ]
  },
  {
   "cell_type": "code",
   "execution_count": 18,
   "metadata": {},
   "outputs": [
    {
     "name": "stdout",
     "output_type": "stream",
     "text": [
      "Jakie są przyczyny i leczenie zawału serca?\n"
     ]
    }
   ],
   "source": [
    "tab=(dataset['train'][i])\n",
    "print(tab['question'])"
   ]
  },
  {
   "cell_type": "markdown",
   "metadata": {},
   "source": [
    "**przykotowanie LLM**\n"
   ]
  },
  {
   "cell_type": "code",
   "execution_count": 70,
   "metadata": {},
   "outputs": [],
   "source": [
    "import os\n",
    "\n",
    "os.environ['OPENAI_API_KEY'] = '#'\n",
    "os.environ['HUGGINGFACEHUB_API_TOKEN'] = '#'"
   ]
  },
  {
   "cell_type": "code",
   "execution_count": 22,
   "metadata": {},
   "outputs": [],
   "source": [
    "from langchain import OpenAI"
   ]
  },
  {
   "cell_type": "code",
   "execution_count": 23,
   "metadata": {},
   "outputs": [
    {
     "name": "stdout",
     "output_type": "stream",
     "text": [
      "\u001b[1mOpenAI\u001b[0m\n",
      "Params: {'model_name': 'text-davinci-003', 'temperature': 0.9, 'max_tokens': 256, 'top_p': 1, 'frequency_penalty': 0, 'presence_penalty': 0, 'n': 1, 'request_timeout': None, 'logit_bias': {}}\n"
     ]
    }
   ],
   "source": [
    "llm = OpenAI(\n",
    "    model_name='text-davinci-003',\n",
    "             temperature=0.9,\n",
    "             max_tokens = 256)\n",
    "\n",
    "print(llm)"
   ]
  },
  {
   "cell_type": "markdown",
   "metadata": {},
   "source": [
    "**Przygotowanie testu porównującego znaczenie odpowiedzi z zestawu pytań i odpowiedzi do odpowiedzi wygenerowanej z modelu**"
   ]
  },
  {
   "cell_type": "code",
   "execution_count": null,
   "metadata": {},
   "outputs": [],
   "source": [
    "#!wget https://s3.amazonaws.com/dl4j-distribution/GoogleNews-vectors-negative300.bin.gz\n",
    "#!gunzip GoogleNews-vectors-negative300.bin.gz\n",
    "\n"
   ]
  },
  {
   "cell_type": "code",
   "execution_count": 69,
   "metadata": {},
   "outputs": [
    {
     "name": "stdout",
     "output_type": "stream",
     "text": [
      "(300,)\n",
      "Podobieństwo tekstów: 0.8300178050994873\n"
     ]
    }
   ],
   "source": [
    "from gensim.models import KeyedVectors\n",
    "from sklearn.metrics.pairwise import cosine_similarity\n",
    "import numpy as np\n",
    "\n",
    "# Ładowanie wstępnie wytrenowanego modelu Word2Vec\n",
    "model = KeyedVectors.load_word2vec_format('GoogleNews-vectors-negative300.bin', binary=True)\n",
    "\n",
    "def preprocess_text(text):\n",
    "    # Prosta funkcja do przetwarzania tekstu\n",
    "    return text.lower().split()\n",
    "\n",
    "def text_to_vector(text, model):\n",
    "    # Przekształca tekst w średni wektor\n",
    "    words = preprocess_text(text)\n",
    "    word_vectors = [model[word] for word in words if word in model]\n",
    "    if len(word_vectors) == 0:\n",
    "        return np.zeros(model.vector_size)\n",
    "    return np.mean(word_vectors, axis=0)\n",
    "\n",
    "def compare_texts(text1, text2, model):\n",
    "    # Oblicza podobieństwo kosinusowe między dwoma tekstami\n",
    "    vector1 = text_to_vector(text1, model)\n",
    "    vector2 = text_to_vector(text2, model)\n",
    "    print(vector1.shape)\n",
    "    return cosine_similarity([vector1], [vector2])[0][0]\n",
    "\n",
    "# Przykładowe teksty\n",
    "text1 = 'Donatello był włoskim rzeźbiarzem epoki renesansu, uznawanym za jednego z najważniejszych twórców tego okresu. Urodził się w Florencji około 1386 roku i był uczniem loretańskiego artysty, jakim był Maurizio, z którym doskonalił umiejętność rzeźbienia. Najważniejsze dzieła Donatella to m.in.: \"David\" z 1408 roku; \"Gattamelata\" z 1453 roku; \"Madonna i Dzieciątko\" z 1457 roku; \"Krucyfiks\" z 1460 roku; \"Marzocco\" z 1420 roku; oraz \"Nieszporowe Kolumny\" z 1437/38 roku.'\n",
    "text2 = \"Donatello, właśc. Donato di Niccolò di Betto Bardi (1386/1387 - 13 grudnia 1466), był włoskim rzeźbiarzem i złotnikiem zaangażowanym w ruch renesansowy. Uważany jest za jednego z najważniejszych rzeźbiarzy w historii, który przyczynił się do rewolucji w sztuce i odnowy rzemiosła rzeźbiarskiego.Jego prace są często opisane jako przełomowe i innowacyjne, zwracające uwagę na nowatorskie podejście do kompozycji, formy i techniki. Wprowadził trójwymiarowość, naturalizm i emocjonalność do rzeźby, przyczyniając się do rozwoju perspektywy rzeźby.Najważniejsze i najbardziej znane dzieła Donatella to:1. David: Ta rzeźba z brązu przedstawia postać biblijnego Davida. Jest to jedno z najbardziej wpływowych dzieł Donatella, które odzwierciedla jego umiejętność ukazania dynamizmu i naturalizmu postaci.2. Święty Jerzy: Rzeźba wykonana dla Florenckiego Konsulatu we Florencji przedstawia świętego Jerzego walczącego z smokiem. Jest to pierwsza rzeźba na wolnym powietrzu wykonana w stylu renesansowym.3. Mariusz: Rzeźba przedstawiająca legendarnego rzymskiego wodza Gajusza Mariusza. Jest to pierwsza pełnoplastyczna rzeźba konnego jeźdźca od czasów starożytnego Rzymu.4. Relikwiarz św. Ludwika z Tuluzy: Owa rzeźba, wykonana dla Katedry w Padwie, przedstawia zmarłego świętego z zachowanymi szczątkami w głowie. To wybitne dzieło sztuki sakralnej.5. Eweretta: Rzeźba wykonana dla Księcia Kardynała Konstantyna, przedstawia młodą dziewczynę w eleganckim stroju. Jest to arcydzieło sztuki renesansowej.Oprócz tych znanych dzieł, Donatello pracował nad wieloma innymi, takimi jak marmurowe posągi nawiasowe z Orsanmichele, m.in. św. Jorisza i św. Marka, rzeźby do Katedry we Florencji i liczne bazyliki, kaplice, pałace i pomniki w różnych częściach Włoch. Jego wpływ na sztukę rzeźbiarską jest trudny do przecenienia, a jego dzieła są do dzisiaj podziwiane i studiowane.\"\n",
    "\n",
    "# Porównanie tekstów\n",
    "similarity = compare_texts(text1, text2, model)\n",
    "print(f\"Podobieństwo tekstów: {similarity}\")"
   ]
  },
  {
   "cell_type": "markdown",
   "metadata": {},
   "source": [
    "**Testy**"
   ]
  },
  {
   "cell_type": "code",
   "execution_count": 99,
   "metadata": {},
   "outputs": [
    {
     "ename": "SyntaxError",
     "evalue": "cannot assign to expression here. Maybe you meant '==' instead of '='? (2437328940.py, line 2)",
     "output_type": "error",
     "traceback": [
      "\u001b[1;36m  Cell \u001b[1;32mIn[99], line 2\u001b[1;36m\u001b[0m\n\u001b[1;33m    tensorboard --logdir=runs\u001b[0m\n\u001b[1;37m    ^\u001b[0m\n\u001b[1;31mSyntaxError\u001b[0m\u001b[1;31m:\u001b[0m cannot assign to expression here. Maybe you meant '==' instead of '='?\n"
     ]
    }
   ],
   "source": [
    "#!pip install tensorboard\n",
    "!tensorboard --logdir=runs"
   ]
  },
  {
   "cell_type": "code",
   "execution_count": null,
   "metadata": {},
   "outputs": [
    {
     "ename": "ImportError",
     "evalue": "cannot import name 'SummaryWriter' from 'tensorboard' (c:\\Users\\danie\\anaconda33\\envs\\mamba310\\lib\\site-packages\\tensorboard\\__init__.py)",
     "output_type": "error",
     "traceback": [
      "\u001b[1;31m---------------------------------------------------------------------------\u001b[0m",
      "\u001b[1;31mImportError\u001b[0m                               Traceback (most recent call last)",
      "\u001b[1;32mc:\\Repos\\testy_chatknml\\ChatKNML\\testing\\testing.ipynb Cell 16\u001b[0m line \u001b[0;36m1\n\u001b[1;32m----> <a href='vscode-notebook-cell:/c%3A/Repos/testy_chatknml/ChatKNML/testing/testing.ipynb#X26sZmlsZQ%3D%3D?line=0'>1</a>\u001b[0m \u001b[39mfrom\u001b[39;00m \u001b[39mtensorboard\u001b[39;00m \u001b[39mimport\u001b[39;00m SummaryWriter\n\u001b[0;32m      <a href='vscode-notebook-cell:/c%3A/Repos/testy_chatknml/ChatKNML/testing/testing.ipynb#X26sZmlsZQ%3D%3D?line=2'>3</a>\u001b[0m writer \u001b[39m=\u001b[39m SummaryWriter()\n\u001b[0;32m      <a href='vscode-notebook-cell:/c%3A/Repos/testy_chatknml/ChatKNML/testing/testing.ipynb#X26sZmlsZQ%3D%3D?line=4'>5</a>\u001b[0m \u001b[39mprint\u001b[39m(\u001b[39mlen\u001b[39m(dataset[\u001b[39m'\u001b[39m\u001b[39mtrain\u001b[39m\u001b[39m'\u001b[39m]))\n",
      "\u001b[1;31mImportError\u001b[0m: cannot import name 'SummaryWriter' from 'tensorboard' (c:\\Users\\danie\\anaconda33\\envs\\mamba310\\lib\\site-packages\\tensorboard\\__init__.py)"
     ]
    }
   ],
   "source": [
    "\n",
    "from torch.utils.tensorboard import SummaryWriter\n",
    "import numpy as np\n",
    "\n",
    "writer = SummaryWriter()\n",
    "\n",
    "print(len(dataset['train']))\n",
    "j=0\n",
    "valus = {}\n",
    "for i in dataset['train']:\n",
    "    text1=(llm(i['question'])) \n",
    "    text2=(i['answer'])\n",
    "    similarity= compare_texts(text1, text2, model)\n",
    "    valus[i['_id']]=  similarity\n",
    "    writer.add_scalar('Similarity', similarity, i['_id'])\n",
    "\n",
    "    j=  j+1\n",
    "    if j == 2:\n",
    "        break\n",
    "    "
   ]
  },
  {
   "cell_type": "code",
   "execution_count": 67,
   "metadata": {},
   "outputs": [
    {
     "name": "stdout",
     "output_type": "stream",
     "text": [
      "{1: 0.9219043, 2: 0.97384584}\n"
     ]
    }
   ],
   "source": [
    "print(valus)"
   ]
  },
  {
   "cell_type": "code",
   "execution_count": 86,
   "metadata": {},
   "outputs": [
    {
     "name": "stdout",
     "output_type": "stream",
     "text": [
      "[[0.87447463]]\n"
     ]
    }
   ],
   "source": [
    "# Przykładowe wektory\n",
    "vector_a = [6, 5, 4 ,5]\n",
    "vector_b = [4, 5, 6 ,1]\n",
    "\n",
    "# Obliczanie podobieństwa kosinusowego\n",
    "similarity = cosine_similarity([vector_a], [vector_b])\n",
    "\n",
    "print(similarity)"
   ]
  }
 ],
 "metadata": {
  "kernelspec": {
   "display_name": "Python 3 (ipykernel)",
   "language": "python",
   "name": "python3"
  },
  "language_info": {
   "codemirror_mode": {
    "name": "ipython",
    "version": 3
   },
   "file_extension": ".py",
   "mimetype": "text/x-python",
   "name": "python",
   "nbconvert_exporter": "python",
   "pygments_lexer": "ipython3",
   "version": "3.10.13"
  }
 },
 "nbformat": 4,
 "nbformat_minor": 2
}
